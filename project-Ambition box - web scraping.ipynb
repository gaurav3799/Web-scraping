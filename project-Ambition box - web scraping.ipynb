{
 "cells": [
  {
   "cell_type": "markdown",
   "id": "ece973c8",
   "metadata": {},
   "source": [
    "Extract all company detail like name, rating, location, review, age from ambition.com through web scraping\n",
    "\n",
    "BeautifulSoup represents HTML as a set of Tree like objects with methods used to parse\n",
    "the HTML."
   ]
  },
  {
   "cell_type": "code",
   "execution_count": 2,
   "id": "2861f28d",
   "metadata": {},
   "outputs": [],
   "source": [
    "import pandas as pd\n",
    "import requests\n",
    "from bs4 import BeautifulSoup\n"
   ]
  },
  {
   "cell_type": "raw",
   "id": "82d42984",
   "metadata": {
    "scrolled": false
   },
   "source": [
    "webpage=requests.get('https://www.ambitionbox.com/list-of-companies').text\n",
    "webpage"
   ]
  },
  {
   "cell_type": "raw",
   "id": "ec58c6bb",
   "metadata": {},
   "source": [
    "soup=BeautifulSoup(webpage,'lxml')"
   ]
  },
  {
   "cell_type": "raw",
   "id": "31a09d61",
   "metadata": {},
   "source": [
    "soup"
   ]
  },
  {
   "cell_type": "markdown",
   "id": "bbc10664",
   "metadata": {},
   "source": [
    "below method not work further because of same class name in\"p\""
   ]
  },
  {
   "cell_type": "code",
   "execution_count": 33,
   "id": "a73d13c0",
   "metadata": {},
   "outputs": [],
   "source": [
    "#soup.find_all('h1')[0].text   # [] - to select list item   (use find_all for multiple answer or find for unique single answer)"
   ]
  },
  {
   "cell_type": "code",
   "execution_count": 34,
   "id": "421c4e9b",
   "metadata": {},
   "outputs": [],
   "source": [
    "#len(soup.find_all('h2'))   # to check no of h2 in this (just to check)"
   ]
  },
  {
   "cell_type": "code",
   "execution_count": 32,
   "id": "820bb611",
   "metadata": {},
   "outputs": [],
   "source": [
    "#for i in soup.find_all('h2'):\n",
    "#    print (i.text.strip())      #use strip to remove all special character like space or \\n etc."
   ]
  },
  {
   "cell_type": "markdown",
   "id": "d1dcecab",
   "metadata": {},
   "source": [
    "New Method extract companty div then extract each data from it"
   ]
  },
  {
   "cell_type": "raw",
   "id": "14f57697",
   "metadata": {},
   "source": [
    "company=soup.find_all('div',class_=\"company-content\")\n",
    "#len(company)   check len in it"
   ]
  },
  {
   "cell_type": "raw",
   "id": "fa014967",
   "metadata": {},
   "source": [
    "name=[]\n",
    "rating=[]\n",
    "review=[]\n",
    "ctype=[]\n",
    "hq=[]\n",
    "old=[]\n",
    "employ=[]\n",
    "for i in company:\n",
    "    name.append(i.find('h2').text.strip())\n",
    "    rating.append(i.find('p').text.strip())\n",
    "    review.append(i.find('a', class_='review-count').text.strip())\n",
    "    ctype.append(i.find_all('p', class_=\"infoEntity\")[0].text.strip())\n",
    "    hq.append(i.find_all('p', class_=\"infoEntity\")[1].text.strip())\n",
    "    old.append(i.find_all('p', class_=\"infoEntity\")[2].text.strip())\n",
    "    employ.append(i.find_all('p', class_=\"infoEntity\")[3].text.strip())\n",
    "    \n",
    "d={'Name':name,'Rating':rating,'Review':review,'C-type':ctype,'HQ':hq,'Old':old,'Employee':employ}\n",
    "df=pd.DataFrame(d)"
   ]
  },
  {
   "cell_type": "markdown",
   "id": "ff65c766",
   "metadata": {},
   "source": [
    "For one page completed, now for all 333 pages of ambition box"
   ]
  },
  {
   "cell_type": "code",
   "execution_count": null,
   "id": "579041e6",
   "metadata": {},
   "outputs": [],
   "source": [
    "# next_sibling attribute"
   ]
  },
  {
   "cell_type": "markdown",
   "id": "1644904b",
   "metadata": {},
   "source": [
    "# Complete Code for 333 page below"
   ]
  },
  {
   "cell_type": "code",
   "execution_count": null,
   "id": "b0fc8931",
   "metadata": {},
   "outputs": [
    {
     "name": "stderr",
     "output_type": "stream",
     "text": [
      "C:\\Users\\Gaurav Verma\\AppData\\Local\\Temp\\ipykernel_9928\\4263518748.py:44: FutureWarning: The frame.append method is deprecated and will be removed from pandas in a future version. Use pandas.concat instead.\n",
      "  final=final.append(temp_df,ignore_index=True)\n"
     ]
    }
   ],
   "source": [
    "import pandas as pd\n",
    "import requests\n",
    "from bs4 import BeautifulSoup\n",
    "import numpy as np\n",
    "\n",
    "final=pd.DataFrame()\n",
    "\n",
    "for j in range(1,333):\n",
    "    url='https://www.ambitionbox.com/list-of-companies?page={}'.format(j)\n",
    "    webpage=requests.get(url).text\n",
    "    \n",
    "    soup=BeautifulSoup(webpage,'lxml')\n",
    "    company=soup.find_all('div',class_=\"company-content\")\n",
    "    \n",
    "    name=[]\n",
    "    rating=[]\n",
    "    review=[]\n",
    "    ctype=[]\n",
    "    hq=[]\n",
    "    old=[]\n",
    "    employ=[]\n",
    "    for i in company:\n",
    "        name.append(i.find('h2').text.strip())\n",
    "        rating.append(i.find('p').text.strip())\n",
    "        review.append(i.find('a', class_='review-count').text.strip())\n",
    "        try:\n",
    "            ctype.append(i.find_all('p', class_=\"infoEntity\")[0].text.strip())\n",
    "        except:\n",
    "            ctype.append(np.nan)\n",
    "        try:\n",
    "            hq.append(i.find_all('p', class_=\"infoEntity\")[1].text.strip())\n",
    "        except:\n",
    "            hq.append(np.nan)\n",
    "        try:\n",
    "            old.append(i.find_all('p', class_=\"infoEntity\")[2].text.strip())\n",
    "        except:\n",
    "            old.append(np.nan)\n",
    "        try:\n",
    "            employ.append(i.find_all('p', class_=\"infoEntity\")[3].text.strip())\n",
    "        except:\n",
    "            employ.append(np.nan)\n",
    "    d={'Name':name,'Rating':rating,'Review':review,'C-type':ctype,'HQ':hq,'Old':old,'Employee':employ}\n",
    "    temp_df=pd.DataFrame(d)\n",
    "    final=final.append(temp_df,ignore_index=True)\n",
    "    "
   ]
  },
  {
   "cell_type": "code",
   "execution_count": 6,
   "id": "10bc5678",
   "metadata": {},
   "outputs": [
    {
     "data": {
      "text/html": [
       "<div>\n",
       "<style scoped>\n",
       "    .dataframe tbody tr th:only-of-type {\n",
       "        vertical-align: middle;\n",
       "    }\n",
       "\n",
       "    .dataframe tbody tr th {\n",
       "        vertical-align: top;\n",
       "    }\n",
       "\n",
       "    .dataframe thead th {\n",
       "        text-align: right;\n",
       "    }\n",
       "</style>\n",
       "<table border=\"1\" class=\"dataframe\">\n",
       "  <thead>\n",
       "    <tr style=\"text-align: right;\">\n",
       "      <th></th>\n",
       "      <th>Name</th>\n",
       "      <th>Rating</th>\n",
       "      <th>Review</th>\n",
       "      <th>C-type</th>\n",
       "      <th>HQ</th>\n",
       "      <th>Old</th>\n",
       "      <th>Employee</th>\n",
       "    </tr>\n",
       "  </thead>\n",
       "  <tbody>\n",
       "    <tr>\n",
       "      <th>0</th>\n",
       "      <td>TCS</td>\n",
       "      <td>3.9</td>\n",
       "      <td>(45.4k Reviews)</td>\n",
       "      <td>Public</td>\n",
       "      <td>Mumbai,Maharashtra + 255 more</td>\n",
       "      <td>54 years old</td>\n",
       "      <td>1 Lakh+ Employees (India)</td>\n",
       "    </tr>\n",
       "    <tr>\n",
       "      <th>1</th>\n",
       "      <td>Accenture</td>\n",
       "      <td>4.2</td>\n",
       "      <td>(29.8k Reviews)</td>\n",
       "      <td>Public</td>\n",
       "      <td>Dublin + 137 more</td>\n",
       "      <td>33 years old</td>\n",
       "      <td>1 Lakh+ Employees (India)</td>\n",
       "    </tr>\n",
       "    <tr>\n",
       "      <th>2</th>\n",
       "      <td>Cognizant</td>\n",
       "      <td>4.0</td>\n",
       "      <td>(27k Reviews)</td>\n",
       "      <td>Private</td>\n",
       "      <td>Teaneck. New Jersey. + 89 more</td>\n",
       "      <td>28 years old</td>\n",
       "      <td>1 Lakh+ Employees (India)</td>\n",
       "    </tr>\n",
       "    <tr>\n",
       "      <th>3</th>\n",
       "      <td>ICICI Bank</td>\n",
       "      <td>4.0</td>\n",
       "      <td>(34k Reviews)</td>\n",
       "      <td>Public</td>\n",
       "      <td>Mumbai,Maharashtra + 1022 more</td>\n",
       "      <td>28 years old</td>\n",
       "      <td>50k-1 Lakh Employees (India)</td>\n",
       "    </tr>\n",
       "    <tr>\n",
       "      <th>4</th>\n",
       "      <td>Wipro</td>\n",
       "      <td>3.9</td>\n",
       "      <td>(25.4k Reviews)</td>\n",
       "      <td>Public</td>\n",
       "      <td>Bangalore/Bengaluru,Karnataka + 261 more</td>\n",
       "      <td>77 years old</td>\n",
       "      <td>1 Lakh+ Employees (India)</td>\n",
       "    </tr>\n",
       "    <tr>\n",
       "      <th>...</th>\n",
       "      <td>...</td>\n",
       "      <td>...</td>\n",
       "      <td>...</td>\n",
       "      <td>...</td>\n",
       "      <td>...</td>\n",
       "      <td>...</td>\n",
       "      <td>...</td>\n",
       "    </tr>\n",
       "    <tr>\n",
       "      <th>9953</th>\n",
       "      <td>CONFIANCE BIZSOL</td>\n",
       "      <td>3.8</td>\n",
       "      <td>(49 Reviews)</td>\n",
       "      <td>Ahmedabad,Gujarat</td>\n",
       "      <td>5 years old</td>\n",
       "      <td>51-200 Employees (India)</td>\n",
       "      <td>NaN</td>\n",
       "    </tr>\n",
       "    <tr>\n",
       "      <th>9954</th>\n",
       "      <td>Al Faraa Infra P...</td>\n",
       "      <td>3.6</td>\n",
       "      <td>(49 Reviews)</td>\n",
       "      <td>Abu Dhabi + 3 more</td>\n",
       "      <td>42 years old</td>\n",
       "      <td>51-200 Employees (India)</td>\n",
       "      <td>NaN</td>\n",
       "    </tr>\n",
       "    <tr>\n",
       "      <th>9955</th>\n",
       "      <td>PRS Permacel</td>\n",
       "      <td>4.0</td>\n",
       "      <td>(49 Reviews)</td>\n",
       "      <td>Mumbai + 5 more</td>\n",
       "      <td>95 years old</td>\n",
       "      <td>51-200 Employees (India)</td>\n",
       "      <td>NaN</td>\n",
       "    </tr>\n",
       "    <tr>\n",
       "      <th>9956</th>\n",
       "      <td>Sephora</td>\n",
       "      <td>3.7</td>\n",
       "      <td>(49 Reviews)</td>\n",
       "      <td>Paris + 12 more</td>\n",
       "      <td>52 years old</td>\n",
       "      <td>51-200 Employees (India)</td>\n",
       "      <td>NaN</td>\n",
       "    </tr>\n",
       "    <tr>\n",
       "      <th>9957</th>\n",
       "      <td>Vserv Business S...</td>\n",
       "      <td>3.8</td>\n",
       "      <td>(49 Reviews)</td>\n",
       "      <td>Private</td>\n",
       "      <td>Gurgaon/Gurugram,Haryana + 2 more</td>\n",
       "      <td>12 years old</td>\n",
       "      <td>201-500 Employees (India)</td>\n",
       "    </tr>\n",
       "  </tbody>\n",
       "</table>\n",
       "<p>9958 rows × 7 columns</p>\n",
       "</div>"
      ],
      "text/plain": [
       "                     Name Rating           Review              C-type  \\\n",
       "0                     TCS    3.9  (45.4k Reviews)              Public   \n",
       "1               Accenture    4.2  (29.8k Reviews)              Public   \n",
       "2               Cognizant    4.0    (27k Reviews)             Private   \n",
       "3              ICICI Bank    4.0    (34k Reviews)              Public   \n",
       "4                   Wipro    3.9  (25.4k Reviews)              Public   \n",
       "...                   ...    ...              ...                 ...   \n",
       "9953     CONFIANCE BIZSOL    3.8     (49 Reviews)   Ahmedabad,Gujarat   \n",
       "9954  Al Faraa Infra P...    3.6     (49 Reviews)  Abu Dhabi + 3 more   \n",
       "9955         PRS Permacel    4.0     (49 Reviews)     Mumbai + 5 more   \n",
       "9956              Sephora    3.7     (49 Reviews)     Paris + 12 more   \n",
       "9957  Vserv Business S...    3.8     (49 Reviews)             Private   \n",
       "\n",
       "                                            HQ                       Old  \\\n",
       "0                Mumbai,Maharashtra + 255 more              54 years old   \n",
       "1                            Dublin + 137 more              33 years old   \n",
       "2               Teaneck. New Jersey. + 89 more              28 years old   \n",
       "3               Mumbai,Maharashtra + 1022 more              28 years old   \n",
       "4     Bangalore/Bengaluru,Karnataka + 261 more              77 years old   \n",
       "...                                        ...                       ...   \n",
       "9953                               5 years old  51-200 Employees (India)   \n",
       "9954                              42 years old  51-200 Employees (India)   \n",
       "9955                              95 years old  51-200 Employees (India)   \n",
       "9956                              52 years old  51-200 Employees (India)   \n",
       "9957         Gurgaon/Gurugram,Haryana + 2 more              12 years old   \n",
       "\n",
       "                          Employee  \n",
       "0        1 Lakh+ Employees (India)  \n",
       "1        1 Lakh+ Employees (India)  \n",
       "2        1 Lakh+ Employees (India)  \n",
       "3     50k-1 Lakh Employees (India)  \n",
       "4        1 Lakh+ Employees (India)  \n",
       "...                            ...  \n",
       "9953                           NaN  \n",
       "9954                           NaN  \n",
       "9955                           NaN  \n",
       "9956                           NaN  \n",
       "9957     201-500 Employees (India)  \n",
       "\n",
       "[9958 rows x 7 columns]"
      ]
     },
     "execution_count": 6,
     "metadata": {},
     "output_type": "execute_result"
    }
   ],
   "source": [
    "final"
   ]
  },
  {
   "cell_type": "code",
   "execution_count": null,
   "id": "33f0fd9a",
   "metadata": {},
   "outputs": [],
   "source": []
  },
  {
   "cell_type": "code",
   "execution_count": null,
   "id": "6e899392",
   "metadata": {},
   "outputs": [],
   "source": []
  }
 ],
 "metadata": {
  "kernelspec": {
   "display_name": "Python 3 (ipykernel)",
   "language": "python",
   "name": "python3"
  },
  "language_info": {
   "codemirror_mode": {
    "name": "ipython",
    "version": 3
   },
   "file_extension": ".py",
   "mimetype": "text/x-python",
   "name": "python",
   "nbconvert_exporter": "python",
   "pygments_lexer": "ipython3",
   "version": "3.9.12"
  }
 },
 "nbformat": 4,
 "nbformat_minor": 5
}
